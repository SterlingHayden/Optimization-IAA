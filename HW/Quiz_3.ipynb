{
 "cells": [
  {
   "cell_type": "code",
   "execution_count": 1,
   "metadata": {},
   "outputs": [],
   "source": [
    "from gurobipy import *"
   ]
  },
  {
   "cell_type": "code",
   "execution_count": 2,
   "metadata": {},
   "outputs": [],
   "source": [
    "# Define the data\n",
    "mines = [1, 2, 3, 4]\n",
    "plants = [1, 2, 3, 4]\n",
    "\n",
    "# Transportation cost matrix (mine to plant)\n",
    "transport_cost = {\n",
    "    (1, 1): 9, (1, 2): 15, (1, 3): 8, (1, 4): 10,\n",
    "    (2, 1): 7, (2, 2): 15, (2, 3): 14, (2, 4): 12,\n",
    "    (3, 1): 5, (3, 2): 5, (3, 3): 11, (3, 4): 12,\n",
    "    (4, 1): 3, (4, 2): 6, (4, 3): 8, (4, 4): 11\n",
    "}\n",
    "\n",
    "# Production costs per ton at each mine\n",
    "prod_cost = {1: 50, 2: 57, 3: 55, 4: 61}\n",
    "\n",
    "# Mine capacities\n",
    "capacity = {1: 125, 2: 100, 3: 150, 4: 120}\n",
    "\n",
    "# Plant demands\n",
    "demand = {1: 110, 2: 115, 3: 135, 4: 130}"
   ]
  },
  {
   "cell_type": "code",
   "execution_count": 3,
   "metadata": {},
   "outputs": [
    {
     "name": "stdout",
     "output_type": "stream",
     "text": [
      "Set parameter Username\n",
      "Set parameter LicenseID to value 2606612\n",
      "Academic license - for non-commercial use only - expires 2026-01-06\n",
      "Gurobi Optimizer version 12.0.0 build v12.0.0rc1 (win64 - Windows 11.0 (26100.2))\n",
      "\n",
      "CPU model: Intel(R) Core(TM) i7-8565U CPU @ 1.80GHz, instruction set [SSE2|AVX|AVX2]\n",
      "Thread count: 4 physical cores, 8 logical processors, using up to 8 threads\n",
      "\n",
      "Optimize a model with 8 rows, 16 columns and 32 nonzeros\n",
      "Model fingerprint: 0x1968bb9c\n",
      "Coefficient statistics:\n",
      "  Matrix range     [1e+00, 1e+00]\n",
      "  Objective range  [6e+01, 7e+01]\n",
      "  Bounds range     [0e+00, 0e+00]\n",
      "  RHS range        [1e+02, 2e+02]\n",
      "Presolve time: 0.05s\n",
      "Presolved: 8 rows, 16 columns, 32 nonzeros\n",
      "\n",
      "Iteration    Objective       Primal Inf.    Dual Inf.      Time\n",
      "       0    2.9020000e+04   2.500000e+02   0.000000e+00      0s\n",
      "       6    3.0770000e+04   0.000000e+00   0.000000e+00      0s\n",
      "\n",
      "Solved in 6 iterations and 0.09 seconds (0.00 work units)\n",
      "Optimal objective  3.077000000e+04\n",
      "\n",
      "Optimal Solution Found:\n",
      "Mine 1 -> Plant 3: 125.0 tons\n",
      "Mine 2 -> Plant 4: 100.0 tons\n",
      "Mine 3 -> Plant 1: 5.0 tons\n",
      "Mine 3 -> Plant 2: 115.0 tons\n",
      "Mine 3 -> Plant 4: 30.0 tons\n",
      "Mine 4 -> Plant 1: 105.0 tons\n",
      "Mine 4 -> Plant 3: 10.0 tons\n",
      "\n",
      "Total Minimum Cost: 30770.0\n"
     ]
    }
   ],
   "source": [
    "# Create the model\n",
    "model = Model(\"Coal_Transportation\")\n",
    "\n",
    "# Decision variables: x[i, j] represents tons shipped from mine i to plant j\n",
    "x = model.addVars(mines, plants, lb=0, vtype=GRB.CONTINUOUS, name=\"x\")\n",
    "\n",
    "# Objective function: Minimize total cost (production + transportation)\n",
    "model.setObjective(\n",
    "    sum((transport_cost[i, j] + prod_cost[i]) * x[i, j] for i in mines for j in plants),\n",
    "    GRB.MINIMIZE\n",
    ")\n",
    "\n",
    "# Supply constraints: Each mine cannot ship more than its capacity\n",
    "for i in mines:\n",
    "    model.addConstr(sum(x[i, j] for j in plants) <= capacity[i], name=f\"Supply_{i}\")\n",
    "\n",
    "# Demand constraints: Each plant must receive its required coal\n",
    "for j in plants:\n",
    "    model.addConstr(sum(x[i, j] for i in mines) == demand[j], name=f\"Demand_{j}\")\n",
    "\n",
    "# Solve the model\n",
    "model.optimize()\n",
    "\n",
    "# Display results\n",
    "if model.status == GRB.OPTIMAL:\n",
    "    print(\"\\nOptimal Solution Found:\")\n",
    "    for i in mines:\n",
    "        for j in plants:\n",
    "            if x[i, j].x > 0:\n",
    "                print(f\"Mine {i} -> Plant {j}: {x[i, j].x} tons\")\n",
    "    print(f\"\\nTotal Minimum Cost: {model.objVal}\")\n",
    "else:\n",
    "    print(\"No optimal solution found.\")\n"
   ]
  }
 ],
 "metadata": {
  "kernelspec": {
   "display_name": "ds",
   "language": "python",
   "name": "python3"
  },
  "language_info": {
   "codemirror_mode": {
    "name": "ipython",
    "version": 3
   },
   "file_extension": ".py",
   "mimetype": "text/x-python",
   "name": "python",
   "nbconvert_exporter": "python",
   "pygments_lexer": "ipython3",
   "version": "3.12.3"
  }
 },
 "nbformat": 4,
 "nbformat_minor": 2
}
